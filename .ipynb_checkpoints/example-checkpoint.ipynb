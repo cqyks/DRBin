{
 "cells": [
  {
   "cell_type": "code",
   "execution_count": 2,
   "metadata": {},
   "outputs": [
    {
     "name": "stderr",
     "output_type": "stream",
     "text": [
      "Using backend: pytorch\n"
     ]
    }
   ],
   "source": [
    "import pyximport\n",
    "pyximport.install()\n",
    "\n",
    "import matplotlib.pyplot as plt\n",
    "import numpy as np\n",
    "import scipy.sparse as sp\n",
    "import dgl\n",
    "from sklearn.cluster import AgglomerativeClustering\n",
    "\n",
    "import DRBin\n",
    "import DRBin.utils\n",
    "from DRBin.models import DGI, LogReg\n",
    "from DRBin import process\n",
    "from DRBin.calculate_graph import *\n",
    "from DRBin.eval import *\n",
    "from DRBin.vMF_VAE import *\n",
    "\n",
    "import torch\n",
    "import torch.nn as nn\n",
    "import torch.nn.functional as F\n",
    "\n",
    "from sklearn.preprocessing import normalize\n",
    "import scipy.sparse as sp\n",
    "\n",
    "%matplotlib inline"
   ]
  },
  {
   "cell_type": "code",
   "execution_count": 6,
   "metadata": {},
   "outputs": [],
   "source": [
    "with open('/home/maog/data/metahit/contigs.fna', 'rb') as filehandle:\n",
    "    tnfs = DRBin.parsecontigs.read_contigs(filehandle)\n",
    "rpkms = np.load('/home/maog/data/metahit/abundance.npz')\n",
    "rpkms=rpkms['arr_0']\n",
    "vae = DRBin.vMF_VAE.vMF_VAE(nsamples=rpkms.shape[1])\n",
    "dataloader = DRBin.vMF_VAE.make_dataloader(rpkms, tnfs)\n",
    "#vae.trainmodel(dataloader)\n",
    "#latent = vae.encode(dataloader)\n",
    "#np.savetxt('/home/maog/data/urog/latent.txt', latent)\n",
    "latent = np.loadtxt('/home/maog/data/metahit/vMF-VAE_latent.txt')"
   ]
  },
  {
   "cell_type": "code",
   "execution_count": 8,
   "metadata": {},
   "outputs": [],
   "source": [
    "latent = np.loadtxt('/home/maog/data/metahit/vMF-VAE_latent.txt')\n",
    "u, v = calculate_graph(latent, marker_contigs, contig_id_idx)\n",
    "g = dgl.graph((u, v))\n",
    "knn_graph = g.adj(scipy_fmt='csr')\n",
    "sp.save_npz('/home/maog/data/metahit/knngraph.npz', knn_graph)"
   ]
  },
  {
   "cell_type": "code",
   "execution_count": 11,
   "metadata": {},
   "outputs": [],
   "source": [
    "u, v = calculate_negativate_graph(latent, marker_contigs, contig_id_idx)\n",
    "g = dgl.graph((u, v))\n",
    "knn_graph = g.adj(scipy_fmt='csr')\n",
    "sp.save_npz('/home/maog/data/metahit/knn_neg_graph.npz', knn_graph)"
   ]
  },
  {
   "cell_type": "code",
   "execution_count": null,
   "metadata": {
    "scrolled": true
   },
   "outputs": [],
   "source": [
    "latent = np.loadtxt('/home/maog/data/metahit/vMF-VAE_latent.txt')\n",
    "# training params\n",
    "batch_size = 1\n",
    "nb_epochs = 300\n",
    "patience = 20\n",
    "lr = 0.001\n",
    "l2_coef = 0.0\n",
    "drop_prob = 0.3\n",
    "hid_units = 32\n",
    "a = 1e-64\n",
    "sparse = True\n",
    "nonlinearity = 'prelu' # special name to separate parameters\n",
    "features = latent\n",
    "adj = sp.load_npz('/home/maog/data/metahit/knngraph.npz')\n",
    "adj_hat = sp.load_npz('/home/maog/data/metahit/knn_neg_graph.npz')\n",
    "\n",
    "features = sp.csr_matrix(features)\n",
    "features, _ = process.preprocess_features(features)\n",
    "nb_nodes = features.shape[0]\n",
    "ft_size = features.shape[1]\n",
    "adj = process.normalize_adj(adj + sp.eye(adj.shape[0]))\n",
    "adj_hat = process.normalize_adj(adj_hat + sp.eye(adj_hat.shape[0]))\n",
    "\n",
    "if sparse:\n",
    "    sp_adj = process.sparse_mx_to_torch_sparse_tensor(adj)\n",
    "    sp_adj_hat = process.sparse_mx_to_torch_sparse_tensor(adj_hat)\n",
    "else:\n",
    "    adj = (adj + sp.eye(adj.shape[0])).todense()\n",
    "    adj_hat = (adj_hat + sp.eye(adj_hat.shape[0])).todense()\n",
    "\n",
    "features = torch.FloatTensor(features[np.newaxis])\n",
    "if not sparse:\n",
    "    adj = torch.FloatTensor(adj[np.newaxis])\n",
    "model = DGI(ft_size, hid_units, nonlinearity)\n",
    "optimiser = torch.optim.Adam(model.parameters(), lr=lr, weight_decay=l2_coef)\n",
    "\n",
    "if torch.cuda.is_available():\n",
    "   \n",
    "    torch.cuda.set_device(1)\n",
    "    model.cuda()\n",
    "    print('Using CUDA')\n",
    "    features = features.cuda()\n",
    "    if sparse:\n",
    "        sp_adj = sp_adj.cuda()\n",
    "        sp_adj_hat = sp_adj_hat.cuda()\n",
    "    else:\n",
    "        adj = adj.cuda()\n",
    "        adj_hat = adj_hat.cuda()\n",
    "b_xent = nn.BCEWithLogitsLoss()\n",
    "xent = nn.CrossEntropyLoss()\n",
    "cnt_wait = 0\n",
    "best = 1e9\n",
    "best_t = 0\n",
    "\n",
    "for epoch in range(nb_epochs):\n",
    "    model.train()\n",
    "    optimiser.zero_grad()\n",
    "\n",
    "    lbl_1 = torch.ones(batch_size, nb_nodes)\n",
    "    lbl_2 = torch.zeros(batch_size, nb_nodes)\n",
    "    lbl = torch.cat((lbl_1, lbl_2), 1)\n",
    "\n",
    "    if torch.cuda.is_available():\n",
    "        lbl = lbl.cuda()\n",
    "    \n",
    "    logits = model(features, sp_adj if sparse else adj, sp_adj_hat if sparse else adj_hat, sparse, None, None, None) \n",
    "\n",
    "    loss = xent(logits, lbl)\n",
    "\n",
    "    print('loss:', loss)\n",
    "\n",
    "    if loss < best:\n",
    "        best = loss\n",
    "        best_t = epoch\n",
    "        cnt_wait = 0\n",
    "#        torch.save(model.state_dict(), '/home/maog/data/metahit/best_dgi.pkl')\n",
    "    else:\n",
    "        cnt_wait += 1\n",
    "\n",
    "    loss.backward()\n",
    "    optimiser.step()\n",
    "\n",
    "#model.load_state_dict(torch.load('/home/maog/data/metahit/best_dgi.pkl'))\n",
    "embeds, _ = model.embed(features, sp_adj if sparse else adj, sparse, None)\n",
    "embeds = embeds.squeeze(-3).cpu()\n",
    "embeds = normalize(embeds)\n",
    "embeds = embeds.numpy()\n",
    "features = features.squeeze(-3)\n",
    "features = features.cpu().numpy()\n",
    "#get the final vector for clustering\n",
    "X = ((1 - a) * features + a * embeds)\n",
    "#np.savetxt('/home/maog/data/metahit/DRBin_latent.txt', X)"
   ]
  },
  {
   "cell_type": "code",
   "execution_count": 7,
   "metadata": {},
   "outputs": [],
   "source": [
    "from DRBin.my_cluster import *\n",
    "from Bio import SeqIO"
   ]
  },
  {
   "cell_type": "code",
   "execution_count": 8,
   "metadata": {},
   "outputs": [],
   "source": [
    "contig_length = {}\n",
    "contig_id_idx = {}\n",
    "contig_idx_id = {}\n",
    "contigs = '/home/maog/data/metahit/contigs.fna'\n",
    "for record in SeqIO.parse(contigs, \"fasta\"):\n",
    "    contig_length[record.id] = len(record.seq)\n",
    "    contig_idx_id[len(contig_id_idx)] = record.id\n",
    "    contig_id_idx[record.id] = len(contig_id_idx)"
   ]
  },
  {
   "cell_type": "code",
   "execution_count": 21,
   "metadata": {},
   "outputs": [],
   "source": [
    "clusters = cluster_points(X)"
   ]
  },
  {
   "cell_type": "code",
   "execution_count": 22,
   "metadata": {},
   "outputs": [
    {
     "data": {
      "text/plain": [
       "316"
      ]
     },
     "execution_count": 22,
     "metadata": {},
     "output_type": "execute_result"
    }
   ],
   "source": [
    "for record in SeqIO.parse(contigs, \"fasta\"):\n",
    "    contig_length[record.id] = len(record.seq)\n",
    "    contig_idx_id[len(contig_id_idx)] = record.id\n",
    "    contig_id_idx[record.id] = len(contig_id_idx)\n",
    "filtered_bins, cluster_contig_id = filterclusters(clusters, contig_length, contig_idx_id)\n",
    "import collections\n",
    "cluster = dict()\n",
    "cluster = collections.defaultdict(set)\n",
    "for k, v in filtered_bins.items():\n",
    "    for i in v:\n",
    "        if k != -1:\n",
    "            cluster[\"bins\"+ str(k)].add(contig_idx_id[i])\n",
    "len(cluster.keys())"
   ]
  },
  {
   "cell_type": "code",
   "execution_count": 78,
   "metadata": {},
   "outputs": [],
   "source": [
    "# This writes a .tsv file with the clusters and corresponding sequences\n",
    "with open('/home/maog/data/metahit/result/DRBin_cluster.tsv', 'w') as file:\n",
    "    DRBin.utils.write_clusters(file, cluster)\n",
    "\n",
    "# # Only keep contigs in any filtered bin in memory\n",
    "# keptcontigs = set.union(*cluster.values())\n",
    "\n",
    "# with open('/home/maog/data/urog/contigs.fna', 'rb') as file:\n",
    "#     fastadict = DRBin.utils.loadfasta(file, keep=keptcontigs)\n",
    "    \n",
    "# bindir = '/home/maog/data/urog/result/bins'\n",
    "# DRBin.utils.write_bins(bindir, cluster, fastadict, maxbins=1500)"
   ]
  },
  {
   "cell_type": "code",
   "execution_count": 5,
   "metadata": {},
   "outputs": [
    {
     "name": "stdout",
     "output_type": "stream",
     "text": [
      "gi|224815735|ref|NZ_ACGB01000001.1|_[Acidaminococcus_D21_uid55871]_1-5871\tAcidaminococcus_D21_uid55871\tNZ_ACGB01000001.1\t1\t5871\n",
      "gi|224815735|ref|NZ_ACGB01000001.1|_[Acidaminococcus_D21_uid55871]_5841-8340\tAcidaminococcus_D21_uid55871\tNZ_ACGB01000001.1\t5841\t8340\n",
      "gi|224815735|ref|NZ_ACGB01000001.1|_[Acidaminococcus_D21_uid55871]_8310-10809\tAcidaminococcus_D21_uid55871\tNZ_ACGB01000001.1\t8310\t10809\n",
      "gi|224815735|ref|NZ_ACGB01000001.1|_[Acidaminococcus_D21_uid55871]_10779-29944\tAcidaminococcus_D21_uid55871\tNZ_ACGB01000001.1\t10779\t29944\n",
      "gi|224815735|ref|NZ_ACGB01000001.1|_[Acidaminococcus_D21_uid55871]_29914-33073\tAcidaminococcus_D21_uid55871\tNZ_ACGB01000001.1\t29914\t33073\n",
      "gi|224815735|ref|NZ_ACGB01000001.1|_[Acidaminococcus_D21_uid55871]_33043-41174\tAcidaminococcus_D21_uid55871\tNZ_ACGB01000001.1\t33043\t41174\n",
      "gi|224815735|ref|NZ_ACGB01000001.1|_[Acidaminococcus_D21_uid55871]_41144-44994\tAcidaminococcus_D21_uid55871\tNZ_ACGB01000001.1\t41144\t44994\n",
      "gi|224815735|ref|NZ_ACGB01000001.1|_[Acidaminococcus_D21_uid55871]_44964-53996\tAcidaminococcus_D21_uid55871\tNZ_ACGB01000001.1\t44964\t53996\n",
      "gi|224815735|ref|NZ_ACGB01000001.1|_[Acidaminococcus_D21_uid55871]_53966-59194\tAcidaminococcus_D21_uid55871\tNZ_ACGB01000001.1\t53966\t59194\n",
      "gi|224815735|ref|NZ_ACGB01000001.1|_[Acidaminococcus_D21_uid55871]_59164-65356\tAcidaminococcus_D21_uid55871\tNZ_ACGB01000001.1\t59164\t65356\n"
     ]
    }
   ],
   "source": [
    "# First load in the Reference\n",
    "reference_path = '/home/maog/data/metahit/reference.tsv'\n",
    "\n",
    "!head $reference_path # show first 10 lines of reference file\n",
    "\n",
    "with open(reference_path) as reference_file:\n",
    "    reference = DRBin.benchmark.Reference.from_file(reference_file)"
   ]
  },
  {
   "cell_type": "code",
   "execution_count": 6,
   "metadata": {},
   "outputs": [
    {
     "name": "stdout",
     "output_type": "stream",
     "text": [
      "Acidaminococcus_D21_uid55871\tAcidaminococcus_D21_uid55871\tAcidaminococcus\n",
      "Acidaminococcus_fermentans_DSM_20731_uid43471\tAcidaminococcus fermentans\tAcidaminococcus\n",
      "Acidaminococcus_intestini_RyC_MR95_uid74445\tAcidaminococcus intestini\tAcidaminococcus\n",
      "Actinomyces_ICM47_uid170984\tActinomyces_ICM47_uid170984\tActinomyces\n",
      "Adlercreutzia_equolifaciens_DSM_19450_uid223286\tAdlercreutzia equolifaciens\tAdlercreutzia\n",
      "Aeromicrobium_JC14_uid199535\tAeromicrobium_JC14_uid199535\tAeromicrobium\n",
      "Akkermansia_muciniphila_ATCC_BAA_835_uid58985\tAkkermansia muciniphila\tAkkermansia\n",
      "Alcanivorax_hongdengensis_A_11_3_uid176602\tAlcanivorax hongdengensis\tAlcanivorax\n",
      "Alistipes_AP11_uid199714\tAlistipes_AP11_uid199714\tAlistipes\n",
      "Alistipes_HGB5_uid67587\tAlistipes_HGB5_uid67587\tAlistipes\n"
     ]
    }
   ],
   "source": [
    "taxonomy_path = '/home/maog/data/metahit/taxonomy.tsv'\n",
    "\n",
    "!head $taxonomy_path # show first 10 lines of reference file\n",
    "\n",
    "with open(taxonomy_path) as taxonomy_file:\n",
    "    reference.load_tax_file(taxonomy_file)"
   ]
  },
  {
   "cell_type": "code",
   "execution_count": 7,
   "metadata": {},
   "outputs": [],
   "source": [
    "with open('/home/maog/data/metahit/result/DRBin_cluster.tsv') as clusters_file:\n",
    "    DRBin_clusters = DRBin.utils.read_clusters(clusters_file)\n",
    "    DRBin_bins = DRBin.benchmark.Binning(DRBin_clusters, reference, minsize=100000)"
   ]
  },
  {
   "cell_type": "code",
   "execution_count": 8,
   "metadata": {},
   "outputs": [
    {
     "name": "stdout",
     "output_type": "stream",
     "text": [
      "DGRBin bins:\n",
      "112\t108\t100\t98\t89\t66\t26\t7\t0\n",
      "107\t105\t97\t95\t88\t65\t25\t7\t0\n",
      "52\t52\t49\t48\t48\t41\t21\t6\t0\n"
     ]
    }
   ],
   "source": [
    "print('DGRBin bins:')\n",
    "for rank in DRBin_bins.summary():\n",
    "    print('\\t'.join(map(str, rank)))"
   ]
  },
  {
   "cell_type": "code",
   "execution_count": 10,
   "metadata": {},
   "outputs": [
    {
     "name": "stdout",
     "output_type": "stream",
     "text": [
      "vamb bins:\n",
      "108\t107\t105\t102\t91\t66\t21\t6\t0\n",
      "104\t104\t102\t99\t90\t65\t20\t6\t0\n",
      "53\t53\t52\t51\t49\t43\t17\t5\t0\n"
     ]
    }
   ],
   "source": [
    "with open('/home/maog/data/metahit/vamb_cluster.tsv') as clusters_file:\n",
    "    DRBin_clusters = DRBin.utils.read_clusters(clusters_file)\n",
    "    DRBin_bins = DRBin.benchmark.Binning(DRBin_clusters, reference, minsize=100000)\n",
    "print('vamb bins:')\n",
    "for rank in DRBin_bins.summary():\n",
    "    print('\\t'.join(map(str, rank)))"
   ]
  },
  {
   "cell_type": "code",
   "execution_count": null,
   "metadata": {},
   "outputs": [],
   "source": []
  }
 ],
 "metadata": {
  "interpreter": {
   "hash": "1ec480fcdb5435730e2641a6b20223a89e18742721ed36522654453abff08ed1"
  },
  "kernelspec": {
   "display_name": "graphBin",
   "language": "python",
   "name": "graphbin"
  },
  "language_info": {
   "codemirror_mode": {
    "name": "ipython",
    "version": 3
   },
   "file_extension": ".py",
   "mimetype": "text/x-python",
   "name": "python",
   "nbconvert_exporter": "python",
   "pygments_lexer": "ipython3",
   "version": "3.7.8"
  }
 },
 "nbformat": 4,
 "nbformat_minor": 4
}
