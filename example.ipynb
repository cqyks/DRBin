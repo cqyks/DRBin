{
 "cells": [
  {
   "cell_type": "code",
   "execution_count": 2,
   "metadata": {},
   "outputs": [],
   "source": [
    "import pyximport\n",
    "pyximport.install()\n",
    "\n",
    "import matplotlib.pyplot as plt\n",
    "import numpy as np\n",
    "import scipy.sparse as sp\n",
    "import dgl\n",
    "from sklearn.cluster import AgglomerativeClustering\n",
    "\n",
    "\n",
    "import DRBin\n",
    "import DRBin.utils\n",
    "from DRBin.models import DGI, LogReg\n",
    "from DRBin import process\n",
    "\n",
    "import torch\n",
    "import torch.nn as nn\n",
    "import torch.nn.functional as F\n",
    "from torch_cluster import radius_graph\n",
    "\n",
    "from sklearn.preprocessing import normalize\n",
    "import scipy.sparse as sp\n",
    "\n",
    "%matplotlib inline"
   ]
  },
  {
   "cell_type": "code",
   "execution_count": 112,
   "metadata": {},
   "outputs": [],
   "source": [
    "with open('/home/maog/data/urog/contigs.fna', 'rb') as filehandle:\n",
    "    tnfs, contignames, lengths = DRBin.parsecontigs.read_contigs(filehandle)\n",
    "rpkms = np.load('/home/maog/data/urog/abundance.npz')\n",
    "rpkms=rpkms['arr_0']\n",
    "vae = DRBin.encode.VAE(nsamples=rpkms.shape[1])\n",
    "dataloader, mask = DRBin.encode.make_dataloader(rpkms, tnfs)\n",
    "vae.trainmodel(dataloader)\n",
    "latent = vae.encode(dataloader)\n",
    "np.savetxt('/home/maog/data/urog/latent.txt', latent)\n",
    "#latent = np.loadtxt('/home/maog/data/metahit/hit_latent.txt')"
   ]
  },
  {
   "cell_type": "code",
   "execution_count": 3,
   "metadata": {},
   "outputs": [],
   "source": [
    "batch = torch.zeros(latent.shape[0])\n",
    "latent = torch.tensor(latent)\n",
    "edge_index = radius_graph(latent, r=10, loop=False)\n",
    "u, v = edge_index[0], edge_index[1]\n",
    "g = dgl.graph((u, v))\n",
    "bg = dgl.to_bidirected(g)\n",
    "knn_graph = bg.adj(scipy_fmt='csr')\n",
    "sp.save_npz('/home/maog/data/urog/knngraph.npz', knn_graph)"
   ]
  },
  {
   "cell_type": "code",
   "execution_count": 4,
   "metadata": {},
   "outputs": [
    {
     "name": "stdout",
     "output_type": "stream",
     "text": [
      "Using CUDA\n"
     ]
    }
   ],
   "source": [
    "# training params\n",
    "batch_size = 1\n",
    "nb_epochs = 500\n",
    "patience = 20\n",
    "lr = 0.001\n",
    "l2_coef = 0.0\n",
    "drop_prob = 0.3\n",
    "hid_units = 32\n",
    "sparse = True\n",
    "nonlinearity = 'prelu' # special name to separate parameters\n",
    "features = latent\n",
    "adj = sp.load_npz('/home/maog/data/urog/knngraph.npz')\n",
    "\n",
    "features = sp.csr_matrix(features)\n",
    "features, _ = process.preprocess_features(features)\n",
    "nb_nodes = features.shape[0]\n",
    "ft_size = features.shape[1]\n",
    "adj = process.normalize_adj(adj + sp.eye(adj.shape[0]))\n",
    "\n",
    "if sparse:\n",
    "    sp_adj = process.sparse_mx_to_torch_sparse_tensor(adj)\n",
    "else:\n",
    "    adj = (adj + sp.eye(adj.shape[0])).todense()\n",
    "\n",
    "features = torch.FloatTensor(features[np.newaxis])\n",
    "if not sparse:\n",
    "    adj = torch.FloatTensor(adj[np.newaxis])\n",
    "model = DGI(ft_size, hid_units, nonlinearity)\n",
    "optimiser = torch.optim.Adam(model.parameters(), lr=lr, weight_decay=l2_coef)\n",
    "\n",
    "if torch.cuda.is_available():\n",
    "    print('Using CUDA')\n",
    "    model.cuda()\n",
    "    features = features.cuda()\n",
    "    if sparse:\n",
    "        sp_adj = sp_adj.cuda()\n",
    "    else:\n",
    "        adj = adj.cuda()\n",
    "b_xent = nn.BCEWithLogitsLoss()\n",
    "xent = nn.CrossEntropyLoss()\n",
    "cnt_wait = 0\n",
    "best = 1e9\n",
    "best_t = 0\n",
    "\n",
    "for epoch in range(nb_epochs):\n",
    "    model.train()\n",
    "    optimiser.zero_grad()\n",
    "\n",
    "    idx = np.random.permutation(nb_nodes)\n",
    "    shuf_fts = features[:, idx, :]\n",
    "\n",
    "    lbl_1 = torch.ones(batch_size, nb_nodes)\n",
    "    lbl_2 = torch.zeros(batch_size, nb_nodes)\n",
    "    lbl = torch.cat((lbl_1, lbl_2), 1)\n",
    "\n",
    "    if torch.cuda.is_available():\n",
    "        shuf_fts = shuf_fts.cuda()\n",
    "        lbl = lbl.cuda()\n",
    "    \n",
    "    logits = model(features, shuf_fts, sp_adj if sparse else adj, sparse, None, None, None) \n",
    "\n",
    "    loss = b_xent(logits, lbl)\n",
    "\n",
    "    #print('Loss:', loss)\n",
    "\n",
    "    if loss < best:\n",
    "        best = loss\n",
    "        best_t = epoch\n",
    "        cnt_wait = 0\n",
    "        torch.save(model.state_dict(), '/home/maog/data/urog/best_dgi.pkl')\n",
    "    else:\n",
    "        cnt_wait += 1\n",
    "\n",
    "    loss.backward()\n",
    "    optimiser.step()\n",
    "\n",
    "model.load_state_dict(torch.load('/home/maog/data/urog/best_dgi.pkl'))\n",
    "embeds, _ = model.embed(features, sp_adj if sparse else adj, sparse, None)\n",
    "embeds = embeds.squeeze(-3).cpu()\n",
    "embeds = embeds.numpy()\n",
    "features = features.squeeze(-3)\n",
    "features = features.cpu().numpy()\n",
    "\n",
    "#a = 0.73\n",
    "#get the final vector for clustering\n",
    "#X = (a * features + (1 - a) * embeds)"
   ]
  },
  {
   "cell_type": "code",
   "execution_count": 113,
   "metadata": {},
   "outputs": [],
   "source": [
    "np.savetxt('/home/maog/data/urog/tnfs.txt', tnfs)"
   ]
  },
  {
   "cell_type": "code",
   "execution_count": 3,
   "metadata": {},
   "outputs": [],
   "source": [
    "from DRBin.my_cluster import *\n",
    "from Bio import SeqIO"
   ]
  },
  {
   "cell_type": "code",
   "execution_count": 4,
   "metadata": {},
   "outputs": [],
   "source": [
    "contig_length = {}\n",
    "contig_id_idx = {}\n",
    "contig_idx_id = {}\n",
    "contigs = '/home/maog/data/skin/contigs.fna'\n",
    "for record in SeqIO.parse(contigs, \"fasta\"):\n",
    "    contig_length[record.id] = len(record.seq)\n",
    "    contig_idx_id[len(contig_id_idx)] = record.id\n",
    "    contig_id_idx[record.id] = len(contig_id_idx)"
   ]
  },
  {
   "cell_type": "code",
   "execution_count": null,
   "metadata": {},
   "outputs": [],
   "source": [
    "output = '/home/maog/data/skin'\n",
    "res = perform_binning(output, contigs)\n",
    "len(res.keys())"
   ]
  },
  {
   "cell_type": "code",
   "execution_count": null,
   "metadata": {},
   "outputs": [],
   "source": [
    "import collections\n",
    "cluster = dict()\n",
    "cluster = collections.defaultdict(set)\n",
    "for k, v in res.items():\n",
    "    for i in v:\n",
    "        cluster[contig_idx_id[k]].add(contig_idx_id[i])\n",
    "len(cluster.keys())"
   ]
  },
  {
   "cell_type": "code",
   "execution_count": 119,
   "metadata": {},
   "outputs": [],
   "source": [
    "# This writes a .tsv file with the clusters and corresponding sequences\n",
    "with open('/home/maog/data/urog/result/DRBin_cluster.tsv', 'w') as file:\n",
    "    DRBin.utils.write_clusters(file, cluster)\n",
    "\n",
    "# Only keep contigs in any filtered bin in memory\n",
    "keptcontigs = set.union(*cluster.values())\n",
    "\n",
    "with open('/home/maog/data/urog/contigs.fna', 'rb') as file:\n",
    "    fastadict = DRBin.utils.loadfasta(file, keep=keptcontigs)\n",
    "    \n",
    "bindir = '/home/maog/data/urog/result/bins'\n",
    "DRBin.utils.write_bins(bindir, cluster, fastadict, maxbins=1500)"
   ]
  },
  {
   "cell_type": "code",
   "execution_count": null,
   "metadata": {},
   "outputs": [],
   "source": [
    "# First load in the Reference\n",
    "reference_path = '/home/maog/data/urog/reference.tsv'\n",
    "\n",
    "!head $reference_path # show first 10 lines of reference file\n",
    "\n",
    "with open(reference_path) as reference_file:\n",
    "    reference = DRBin.benchmark.Reference.from_file(reference_file)"
   ]
  },
  {
   "cell_type": "code",
   "execution_count": null,
   "metadata": {},
   "outputs": [],
   "source": [
    "taxonomy_path = '/home/maog/data/urog/taxonomy.tsv'\n",
    "\n",
    "!head $taxonomy_path # show first 10 lines of reference file\n",
    "\n",
    "with open(taxonomy_path) as taxonomy_file:\n",
    "    reference.load_tax_file(taxonomy_file)"
   ]
  },
  {
   "cell_type": "code",
   "execution_count": 122,
   "metadata": {},
   "outputs": [],
   "source": [
    "with open('/home/maog/data/urog/result/DRBin_cluster.tsv') as clusters_file:\n",
    "    DRBin_clusters = DRBin.utils.read_clusters(clusters_file)\n",
    "    DRBin_bins = DRBin.benchmark.Binning(DRBin_clusters, reference, minsize=100000)"
   ]
  },
  {
   "cell_type": "code",
   "execution_count": null,
   "metadata": {},
   "outputs": [],
   "source": [
    "print('DRBin bins:')\n",
    "for rank in DRBin_bins.summary():\n",
    "    print('\\t'.join(map(str, rank)))"
   ]
  },
  {
   "cell_type": "code",
   "execution_count": 130,
   "metadata": {},
   "outputs": [],
   "source": [
    "with open('/home/maog/data/urog/vamb_cluster.tsv') as clusters_file:\n",
    "    vamb_clusters = DRBin.utils.read_clusters(clusters_file)\n",
    "    vamb_bins = DRBin.benchmark.Binning(vamb_clusters, reference, minsize=100000)"
   ]
  },
  {
   "cell_type": "code",
   "execution_count": null,
   "metadata": {},
   "outputs": [],
   "source": [
    "print('vamb bins:')\n",
    "for rank in vamb_bins.summary():\n",
    "    print('\\t'.join(map(str, rank)))"
   ]
  },
  {
   "cell_type": "code",
   "execution_count": 144,
   "metadata": {},
   "outputs": [],
   "source": [
    "recalls = [0.3, 0.4, 0.5, 0.6, 0.7, 0.8, 0.9, 0.95]\n",
    "vambbins = []\n",
    "DRBins = []\n",
    "j = 2\n",
    "for i in recalls:\n",
    "    vambbins.append(vamb_bins.counters[j][(i, 0.95)])\n",
    "    DRBins.append(DRBin_bins.counters[j][(i, 0.95)])"
   ]
  },
  {
   "cell_type": "code",
   "execution_count": null,
   "metadata": {},
   "outputs": [],
   "source": [
    "import matplotlib.pyplot as plt\n",
    "import numpy as np\n",
    "import pandas as pd\n",
    "\n",
    "fig,ax=plt.subplots(figsize=(6.4,4.8), dpi=100)\n",
    "recalls = [0.3, 0.4, 0.5, 0.6, 0.7, 0.8, 0.9, 0.95]\n",
    "ax.plot(recalls,vambbins, label='vamb', linestyle='-', marker='o', markersize='4')\n",
    "ax.plot(recalls,DRBins, label='DRBin', linestyle='-', marker='o', markersize='4')\n",
    "plt.title('#input analysis', fontsize=18)\n",
    "ax.set_xlabel('b', fontsize=13)\n",
    "ax.set_ylabel('bins at precision = 0.95', fontsize=13)\n",
    "ax.tick_params(axis='both', labelsize=11)\n",
    "ax.grid(True, linestyle='-.', linewidth = 1)\n",
    "legend = ax.legend(loc='best', framealpha=0.2)"
   ]
  }
 ],
 "metadata": {
  "interpreter": {
   "hash": "1ec480fcdb5435730e2641a6b20223a89e18742721ed36522654453abff08ed1"
  },
  "kernelspec": {
   "display_name": "graphBin",
   "language": "python",
   "name": "graphbin"
  },
  "language_info": {
   "codemirror_mode": {
    "name": "ipython",
    "version": 3
   },
   "file_extension": ".py",
   "mimetype": "text/x-python",
   "name": "python",
   "nbconvert_exporter": "python",
   "pygments_lexer": "ipython3",
   "version": "3.7.8"
  }
 },
 "nbformat": 4,
 "nbformat_minor": 4
}
