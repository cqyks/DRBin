{
 "cells": [
  {
   "cell_type": "code",
   "execution_count": 1,
   "metadata": {},
   "outputs": [],
   "source": [
    "import os\n",
    "import numpy as np\n",
    "from math import log\n",
    "import itertools\n",
    "import sys\n",
    "from tqdm import tqdm\n",
    "\n",
    "from torch.utils.data import DataLoader as DataLoader\n",
    "from torch.utils.data.dataset import TensorDataset as TensorDataset\n",
    "\n",
    "from torch.autograd import Variable\n",
    "\n",
    "import torch.nn as nn\n",
    "import torch.nn.functional as F\n",
    "import torch\n",
    "\n",
    "import matplotlib\n",
    "matplotlib.use('Agg')\n",
    "import matplotlib.pyplot as plt\n",
    "\n",
    "import DRBin.utils as _vambtools"
   ]
  },
  {
   "cell_type": "code",
   "execution_count": 2,
   "metadata": {},
   "outputs": [],
   "source": [
    "def make_dataloader(rpkm, tnf, batchsize=256, destroy=False, cuda=False):\n",
    "    \"\"\"Create a DataLoader and a contig mask from RPKM and TNF.\n",
    "\n",
    "    The dataloader is an object feeding minibatches of contigs to the VAE.\n",
    "    The data are normalized versions of the input datasets, with zero-contigs,\n",
    "    i.e. contigs where a row in either TNF or RPKM are all zeros, removed.\n",
    "    The mask is a boolean mask designating which contigs have been kept.\n",
    "\n",
    "    Inputs:\n",
    "        rpkm: RPKM matrix (N_contigs x N_samples)\n",
    "        tnf: TNF matrix (N_contigs x N_TNF)\n",
    "        batchsize: Starting size of minibatches for dataloader\n",
    "        destroy: Mutate rpkm and tnf array in-place instead of making a copy.\n",
    "        cuda: Pagelock memory of dataloader (use when using GPU acceleration)\n",
    "\n",
    "    Outputs:\n",
    "        DataLoader: An object feeding data to the VAE\n",
    "        mask: A boolean mask of which contigs are kept\n",
    "    \"\"\"\n",
    "\n",
    "    if not isinstance(rpkm, np.ndarray) or not isinstance(tnf, np.ndarray):\n",
    "        raise ValueError('TNF and RPKM must be Numpy arrays')\n",
    "\n",
    "    if batchsize < 1:\n",
    "        raise ValueError('Minimum batchsize of 1, not {}'.format(batchsize))\n",
    "\n",
    "    if len(rpkm) != len(tnf):\n",
    "        raise ValueError('Lengths of RPKM and TNF must be the same')\n",
    "\n",
    "    if not (rpkm.dtype == tnf.dtype == np.float32):\n",
    "        raise ValueError('TNF and RPKM must be Numpy arrays of dtype float32')\n",
    "\n",
    "    mask = tnf.sum(axis=1) != 0\n",
    "\n",
    "    # If multiple samples, also include nonzero depth as requirement for accept\n",
    "    # of sequences\n",
    "    if rpkm.shape[1] > 1:\n",
    "        depthssum = rpkm.sum(axis=1)\n",
    "        mask &= depthssum != 0\n",
    "        depthssum = depthssum[mask]\n",
    "\n",
    "    if mask.sum() < batchsize:\n",
    "        raise ValueError('Fewer sequences left after filtering than the batch size.')\n",
    "\n",
    "    if destroy:\n",
    "        rpkm = _vambtools.numpy_inplace_maskarray(rpkm, mask)\n",
    "        tnf = _vambtools.numpy_inplace_maskarray(tnf, mask)\n",
    "    else:\n",
    "        # The astype operation does not copy due to \"copy=False\", but the masking\n",
    "        # operation does.\n",
    "        rpkm = rpkm[mask].astype(np.float32, copy=False)\n",
    "        tnf = tnf[mask].astype(np.float32, copy=False)\n",
    "\n",
    "    # If multiple samples, normalize to sum to 1, else zscore normalize\n",
    "    if rpkm.shape[1] > 1:\n",
    "        rpkm /= depthssum.reshape((-1, 1))\n",
    "    else:\n",
    "        _vambtools.zscore(rpkm, axis=0, inplace=True)\n",
    "\n",
    "    # Normalize arrays and create the Tensors (the tensors share the underlying memory)\n",
    "    # of the Numpy arrays\n",
    "    _vambtools.zscore(tnf, axis=0, inplace=True)\n",
    "    depthstensor = torch.from_numpy(rpkm)\n",
    "    tnftensor = torch.from_numpy(tnf)\n",
    "\n",
    "    # Create dataloader\n",
    "    n_workers = 4 if cuda else 1\n",
    "    dataset = TensorDataset(depthstensor, tnftensor)\n",
    "    dataloader = DataLoader(dataset=dataset, batch_size=batchsize, drop_last=True,\n",
    "                             shuffle=True, num_workers=n_workers, pin_memory=cuda)\n",
    "\n",
    "    return dataloader, mask"
   ]
  },
  {
   "cell_type": "code",
   "execution_count": 3,
   "metadata": {},
   "outputs": [],
   "source": [
    "### HYPERPARAMETERS\n",
    "\n",
    "h_n = 512\n",
    "s_l = 0.001\n",
    "latent_dim = 32\n",
    "h_n_d = h_n\n",
    "n_epochs = 300\n",
    "batch_size = 256\n",
    "lr = 1e-3\n",
    "\n",
    "depths=np.load('/home/maog/data/metahit/abundance.npz')\n",
    "tnfs=np.loadtxt('/home/maog/data/metahit/tnfs.txt', dtype=np.float32)\n",
    "\n",
    "depths=depths['arr_0']"
   ]
  },
  {
   "cell_type": "code",
   "execution_count": 4,
   "metadata": {},
   "outputs": [],
   "source": [
    "path = '/home/maog/data/metahit'\n",
    "input_len = depths.shape[1]+tnfs.shape[1]\n",
    "num_samples=int(depths.shape[1])\n",
    "## If available, use GPU leverage \n",
    "cuda = True if torch.cuda.is_available() else False"
   ]
  },
  {
   "cell_type": "code",
   "execution_count": 5,
   "metadata": {},
   "outputs": [],
   "source": [
    "def reparameterization(mu, logvar):\n",
    "    \n",
    "    std = torch.exp(logvar / 2)\n",
    "    sampled_z = Variable(Tensor(np.random.normal(0, 1, (mu.size(0), latent_dim))))  \n",
    "    if cuda:\n",
    "        sampled_z=sampled_z.cuda()\n",
    "    z = sampled_z * std + mu\n",
    "    return z"
   ]
  },
  {
   "cell_type": "code",
   "execution_count": 6,
   "metadata": {},
   "outputs": [],
   "source": [
    "def calc_loss(depths_in, depths_out, tnf_in, tnf_out,num_samples,alpha=0.15):\n",
    "# If multiple samples, use cross entropy, else use SSE for abundance \n",
    "    if num_samples > 1:\n",
    "        # Add 1e-9 to depths_out to avoid numerical instability.\n",
    "        ce = - ((depths_out + 1e-9).log() * depths_in).sum(dim=1).mean()\n",
    "        ce_weight = (1-alpha) / log(num_samples)\n",
    "        #print('CE=',ce*ce_weight)\n",
    "    else:\n",
    "        alpha = 0.50\n",
    "        ce = (depths_out - depths_in).pow(2).sum(dim=1).mean()\n",
    "        ce_weight = 1 - alpha\n",
    "        #print('only 1 sample')\n",
    "    #print(tnf_out,tnf_in)\n",
    "    sse = (tnf_out - tnf_in).pow(2).sum(dim=1).mean()\n",
    "    sse_weight =alpha/136\n",
    "    #print('SEE=',sse*sse_weight)\n",
    "    loss = ce * ce_weight + sse * sse_weight \n",
    "    #print(ce*ce_weight,sse*sse_weight)\n",
    "    return loss, ce, sse"
   ]
  },
  {
   "cell_type": "code",
   "execution_count": 7,
   "metadata": {},
   "outputs": [],
   "source": [
    "class Encoder(nn.Module):\n",
    "    def __init__(self,h_n,latent_dim):\n",
    "        super(Encoder, self).__init__()\n",
    "        self.model = nn.Sequential(\n",
    "            nn.Linear(int(input_len), h_n),\n",
    "            nn.BatchNorm1d(h_n),\n",
    "            nn.LeakyReLU(),\n",
    "            nn.Linear(h_n, h_n),\n",
    "            nn.BatchNorm1d(h_n),\n",
    "            nn.LeakyReLU(),\n",
    "       )\n",
    "\n",
    "        self.mu = nn.Linear(h_n, latent_dim)\n",
    "        self.logvar = nn.Linear(h_n, latent_dim)# ????\n",
    "\n",
    "\n",
    "    def forward(self,depths,tnfs):\n",
    "        I=torch.cat((depths,tnfs),1)\n",
    "        x = self.model(I)\n",
    "        mu = self.mu(x)\n",
    "        \n",
    "        logvar = self.logvar(x)\n",
    "        z = reparameterization(mu, logvar)\n",
    "        return z\n",
    "\n",
    "\n",
    "class Decoder(nn.Module):\n",
    "    def __init__(self,h_n,latent_dim):\n",
    "        super(Decoder, self).__init__()\n",
    "\n",
    "        self.model = nn.Sequential(\n",
    "            nn.Linear(latent_dim, h_n),\n",
    "            nn.BatchNorm1d(h_n),\n",
    "            nn.LeakyReLU(),\n",
    "            nn.Linear(h_n, h_n),\n",
    "            nn.BatchNorm1d(h_n),\n",
    "            nn.LeakyReLU(),\n",
    "            nn.Linear(h_n, int(input_len)), \n",
    "        )\n",
    "\n",
    "    def forward(self, z):\n",
    "        reconstruction = self.model(z)\n",
    "        \n",
    "        Depths_out,tnf_out =(reconstruction[:,:num_samples],\n",
    "                reconstruction[:,num_samples:])\n",
    "        \n",
    "        depths_out=F.softmax(Depths_out,dim=1)\n",
    "        \n",
    "        return reconstruction,depths_out,tnf_out\n",
    "\n",
    "\n",
    "class Discriminator(nn.Module):\n",
    "    def __init__(self,h_n_d,latent_dim):\n",
    "\n",
    "        super(Discriminator, self).__init__()\n",
    "\n",
    "        self.model = nn.Sequential(\n",
    "            nn.Linear(latent_dim, int(h_n_d)),\n",
    "            nn.LeakyReLU(),\n",
    "            nn.Linear(int(h_n_d), int(h_n_d/2)),\n",
    "            nn.LeakyReLU(),\n",
    "            nn.Linear(int(h_n_d/2), 1),\n",
    "            nn.Sigmoid(),\n",
    "        )\n",
    "\n",
    "    def forward(self, z):\n",
    "        validity = self.model(z)\n",
    "        return validity"
   ]
  },
  {
   "cell_type": "code",
   "execution_count": 8,
   "metadata": {},
   "outputs": [],
   "source": [
    "###   LOSS\n",
    "# Use binary cross-entropy loss\n",
    "adversarial_loss = torch.nn.BCELoss()\n",
    "#adversarial_loss = torch.nn.BCEWithLogitsLoss()\n",
    "\n",
    "# Initialize generator and discriminator\n",
    "encoder = Encoder(h_n,latent_dim)\n",
    "decoder = Decoder(h_n,latent_dim)\n",
    "discriminator = Discriminator(h_n_d,latent_dim)\n",
    "\n",
    "if cuda:\n",
    "    encoder.cuda()\n",
    "    decoder.cuda()\n",
    "    discriminator.cuda()\n",
    "    adversarial_loss.cuda()\n",
    "    #reconstruction_loss.cuda()\n",
    "\n",
    "# Optimizers\n",
    "optimizer_G = torch.optim.Adam(\n",
    "    itertools.chain(encoder.parameters(), decoder.parameters()))\n",
    "\n",
    "optimizer_D = torch.optim.Adam(discriminator.parameters(), lr=lr )\n",
    "Tensor = torch.cuda.FloatTensor if cuda else torch.FloatTensor"
   ]
  },
  {
   "cell_type": "code",
   "execution_count": 9,
   "metadata": {},
   "outputs": [],
   "source": [
    "# ----------\n",
    "#  Training\n",
    "# ----------\n",
    "def train_epoch(dataloader,epoch_i,epoch_T,G_loss,D_r_loss,D_f_loss,epoch_len):\n",
    "    \n",
    "    for i, (depths_in, tnfs_in) in enumerate(dataloader): \n",
    "        imgs=torch.cat((depths_in,tnfs_in),dim=1)\n",
    "        # Adversarial ground truths\n",
    "        valid = Variable(Tensor(imgs.shape[0], 1).fill_(1.0), requires_grad=False)\n",
    "        fake = Variable(Tensor(imgs.shape[0], 1).fill_(0.0), requires_grad=False)\n",
    "\n",
    "        # Configure input\n",
    "        real_imgs = Variable(imgs.type(Tensor))\n",
    "\n",
    "        # -----------------\n",
    "        #  Train Generator\n",
    "        # -----------------\n",
    "\n",
    "        optimizer_G.zero_grad()\n",
    "\n",
    "        #encoded_imgs = encoder(real_imgs)\n",
    "        if cuda == True:\n",
    "            depths_in=depths_in.cuda()\n",
    "            tnfs_in=tnfs_in.cuda()\n",
    "\n",
    "        encoded_imgs = encoder(depths_in,tnfs_in)\n",
    "\n",
    "        decoded_imgs,depths_out,tnfs_out= decoder(encoded_imgs)\n",
    "\n",
    "        # Loss measures generator's ability to fool the discriminator\n",
    "       \n",
    "        vae_loss,ce,sse = calc_loss(depths_in, depths_out, tnfs_in, tnfs_out,num_samples,alpha=0.15)\n",
    "         \n",
    "        g_loss = s_l * adversarial_loss(discriminator(encoded_imgs), valid) + (1-s_l) * vae_loss\n",
    "\n",
    "        g_loss.backward()\n",
    "        optimizer_G.step()\n",
    "\n",
    "        # ---------------------\n",
    "        #  Train Discriminator\n",
    "        # ---------------------\n",
    "\n",
    "        optimizer_D.zero_grad()\n",
    "\n",
    "        # Sample noise as discriminator ground truth\n",
    "        z = Variable(Tensor(np.random.normal(0, 1, (imgs.shape[0], latent_dim))))\n",
    "\n",
    "        # Measure discriminator's ability to classify real from generated samples\n",
    "        real_loss = adversarial_loss(discriminator(z), valid)\n",
    "        fake_loss = adversarial_loss(discriminator(encoded_imgs.detach()), fake)\n",
    "        d_loss = 0.15 * (real_loss + fake_loss)\n",
    "\n",
    "        d_loss.backward()\n",
    "        optimizer_D.step()\n",
    "        #print(\n",
    "        #    \"[Epoch %d/%d] [Batch %d/%d] [D loss: %f] [G loss: %f] [CE: %f] [SSE: %f]  \"\n",
    "        #    % (epoch_i, n_epochs, i, epoch_len, d_loss.item(), g_loss.item(),ce,sse))\n",
    "        \n",
    "        if i % 250 == 0:\n",
    "            print(\n",
    "                \"[Epoch %d/%d] [Batch %d/%d] [D real loss: %f] [D fake loss: %f] [G loss: %f] [CE: %f] [SSE: %f]  \"\n",
    "                % (epoch_i, n_epochs, i, epoch_len, real_loss.item(),fake_loss.item(), g_loss.item(),ce,sse))\n",
    "        \n",
    "        G_loss.append(float(g_loss.detach()))\n",
    "        D_r_loss.append(float(real_loss.detach()))\n",
    "        D_f_loss.append(float(fake_loss.detach()))       #batches.append(batches_done)\n",
    "     \n",
    "     \n",
    "    return G_loss,D_r_loss,D_f_loss"
   ]
  },
  {
   "cell_type": "code",
   "execution_count": 10,
   "metadata": {},
   "outputs": [],
   "source": [
    "def train_model(Path=path,batchsize=batch_size,n_epochs=n_epochs,batchsteps=[25, 75, 150, 300]):\n",
    "    G_loss=[]\n",
    "    D_loss=[]\n",
    "    \n",
    "    print('Training model\\n')\n",
    "\n",
    "    epochs_num=len(make_dataloader(depths,tnfs,batchsize,cuda=cuda)[0])\n",
    "\n",
    "    for epoch in tqdm(range(n_epochs)):\n",
    "        print('\\n\\n EPOCH:',epoch,'\\n\\n')\n",
    "        if epoch in batchsteps:\n",
    "            batchsize *=2\n",
    "            epochs_num=len(make_dataloader(depths,tnfs,batchsize,cuda=cuda)[0])\n",
    "        if epoch == 0:\n",
    "            G_loss=[]\n",
    "            D_loss=[]\n",
    "            D_r_loss=[]\n",
    "            D_f_loss=[]\n",
    "\n",
    "            G_loss_F,D_r_loss_F,D_f_loss_F=train_epoch(dataloader=make_dataloader(depths,tnfs,batchsize,cuda=cuda)[0],epoch_i=epoch,epoch_T=n_epochs,G_loss=G_loss,D_r_loss=D_r_loss,D_f_loss=D_f_loss,epoch_len=epochs_num)\n",
    "        else:\n",
    "            G_loss_i,D_r_loss_i,D_f_loss_i=train_epoch(dataloader=make_dataloader(depths,tnfs,batchsize,cuda=cuda)[0],epoch_i=epoch,epoch_T=n_epochs,G_loss=G_loss_F,D_r_loss=D_r_loss_F,D_f_loss=D_f_loss_F,epoch_len=epochs_num)\n",
    "            G_loss_F,D_r_loss_F,D_f_loss_F=G_loss_i,D_r_loss_i,D_f_loss_i\n",
    "            \n",
    "            \n",
    "\n",
    "    print('\\n\\n Saving model at epoch ',epoch,'\\n\\n')\n",
    "\n",
    "    torch.save(decoder.state_dict(), Path+'/AAE_Models_Decoder_e_'+str(epoch+1))      \n",
    "\n",
    "    torch.save(encoder.state_dict(), Path+'/AAE_Models_Encoder_e_'+str(epoch+1))\n",
    "    torch.save(discriminator.state_dict(), Path+'/AAE_Models_Discriminator_e_'+str(epoch+1))                                        "
   ]
  },
  {
   "cell_type": "code",
   "execution_count": null,
   "metadata": {},
   "outputs": [],
   "source": [
    "train_model()"
   ]
  },
  {
   "cell_type": "code",
   "execution_count": 12,
   "metadata": {},
   "outputs": [],
   "source": [
    "def get_latents(latent_dim,dataloader,path_L):\n",
    "    \"\"\" Retrieve the latent representation of the inputs\n",
    "        \n",
    "        Inputs: dataloader that provides the batches of tnfs and depths\n",
    "        Output: latent representation array and mask  \"\"\"    \n",
    "\n",
    "    latent_matrix=torch.zeros([depths.shape[0],latent_dim])\n",
    "    index_i=0\n",
    "    for i, (depths_in, tnfs_in) in enumerate(dataloader):                 \n",
    "        if cuda == True:\n",
    "            depths_in=depths_in.cuda()\n",
    "            tnfs_in=tnfs_in.cuda()\n",
    "\n",
    "        latent_sample = encoder(depths_in,tnfs_in) # encode raw input data into 32 gausian\n",
    "        #print(latent_sample)\n",
    "        latent_matrix[index_i:index_i+latent_sample.shape[0],:]=latent_sample # store encoding in a matrix\n",
    "        index_i+= latent_sample.shape[0]\n",
    "\n",
    "    latent_array=(latent_matrix.detach().numpy()) #transform the matrix into a np array \n",
    "\n",
    "    print('\\n\\n',path_L,latent_array.shape,'\\n\\n')\n",
    "    np.savez(path_L+'/metahitAAE_latents.npz',latent_array)\n",
    "    \n",
    "    return latent_array"
   ]
  },
  {
   "cell_type": "code",
   "execution_count": 13,
   "metadata": {},
   "outputs": [
    {
     "name": "stdout",
     "output_type": "stream",
     "text": [
      "\n",
      "\n",
      " /home/maog/data/metahit (182388, 32) \n",
      "\n",
      "\n"
     ]
    }
   ],
   "source": [
    "depthstensor = torch.from_numpy(depths)\n",
    "tnftensor = torch.from_numpy(tnfs)\n",
    "\n",
    "# Create dataloader\n",
    "n_workers = 4 if cuda else 1\n",
    "dataset = TensorDataset(depthstensor, tnftensor)\n",
    "dataloader = DataLoader(dataset=dataset, batch_size=4096, drop_last=True,\n",
    "                             shuffle=False, num_workers=n_workers, pin_memory=cuda)\n",
    "latent = get_latents(32, dataloader, path)"
   ]
  },
  {
   "cell_type": "code",
   "execution_count": 2,
   "metadata": {},
   "outputs": [],
   "source": [
    "import numpy as np\n",
    "_DELTA_X = 0.005\n",
    "_XMAX = 0.3"
   ]
  },
  {
   "cell_type": "code",
   "execution_count": 21,
   "metadata": {},
   "outputs": [],
   "source": [
    "latent = np.load('/home/maog/data/metahit/metahitAAE_latents.npz')\n",
    "latent = latent['arr_0']"
   ]
  },
  {
   "cell_type": "code",
   "execution_count": 3,
   "metadata": {},
   "outputs": [],
   "source": [
    "latent=np.loadtxt('/home/maog/data/metahit/DRBin_latent.txt', dtype=np.float32)"
   ]
  },
  {
   "cell_type": "code",
   "execution_count": 25,
   "metadata": {},
   "outputs": [],
   "source": [
    "latents = normalize(latent)\n",
    "distances = calc_distances(latents, 12)\n",
    "histogram = torch.histc(distances, 399, 0, _XMAX)"
   ]
  },
  {
   "cell_type": "code",
   "execution_count": 26,
   "metadata": {},
   "outputs": [],
   "source": [
    "histogram[0] -= 1"
   ]
  },
  {
   "cell_type": "code",
   "execution_count": 27,
   "metadata": {},
   "outputs": [
    {
     "data": {
      "text/plain": [
       "Text(0.29500000000000015, 11.34, 'Clustering threshold')"
      ]
     },
     "execution_count": 27,
     "metadata": {},
     "output_type": "execute_result"
    },
    {
     "data": {
      "image/png": "[encoded data removed]",
      "text/plain": [
       "<Figure size 432x288 with 1 Axes>"
      ]
     },
     "metadata": {
      "needs_background": "light"
     },
     "output_type": "display_data"
    },
    {
     "data": {
      "image/png": "[encoded data removed]",
      "text/plain": [
       "<Figure size 432x288 with 1 Axes>"
      ]
     },
     "metadata": {
      "needs_background": "light"
     },
     "output_type": "display_data"
    }
   ],
   "source": [
    "import numpy as np\n",
    "import matplotlib.pyplot as plt\n",
    "%matplotlib inline\n",
    "\n",
    "def plot(xs, ys, title, xlabel, ylabel):\n",
    "    figure = plt.figure()\n",
    "    plt.plot(xs, ys, color='k')\n",
    "    plt.tick_params(left=False, labelleft=False, labelsize=13)\n",
    "    plt.ylim(0, plt.ylim()[1])\n",
    "    plt.xlim(0, xs.max())\n",
    "    plt.title(title, fontsize=16)\n",
    "    plt.xlabel(xlabel, fontsize=14)\n",
    "    plt.ylabel(ylabel, fontsize=14)\n",
    "    return figure\n",
    "\n",
    "#histogram = vamb.vambtools.read_npz('histogram.npz')\n",
    "xs = np.linspace(0, 1, 400)\n",
    "fig_a = plot(xs[1:], histogram, \"Figure A: Histogram of all distances\", 'distance', 'density')\n",
    "hist2 = histogram[0:120:2] + histogram[1:120:2]\n",
    "fig_b = plot(xs[0:110:2], hist2[:55], \"Figure B: Zoom-in on low X values\", 'distance', 'density')\n",
    "densities = calc_densities(hist2)\n",
    "plt.plot(xs[0:110:2], densities[:55])\n",
    "success,_,threshold = find_valley_ratio(densities, peak_valley_ratio=0.5)\n",
    "plt.vlines(threshold, 0, plt.ylim()[1], linestyles='dotted')\n",
    "plt.text(threshold, plt.ylim()[1]/5, \"Clustering threshold\", rotation=90, fontsize=14)"
   ]
  },
  {
   "cell_type": "code",
   "execution_count": 5,
   "metadata": {},
   "outputs": [],
   "source": [
    "from DRBin.AAE_cluster import *\n",
    "from Bio import SeqIO\n",
    "\n",
    "import DRBin\n",
    "import DRBin.utils\n",
    "from DRBin import process"
   ]
  },
  {
   "cell_type": "code",
   "execution_count": 245,
   "metadata": {},
   "outputs": [],
   "source": [
    "contig_length = {}\n",
    "contig_id_idx = {}\n",
    "contig_idx_id = {}\n",
    "contigs = '/home/maog/data/airways/contigs.fna'\n",
    "for record in SeqIO.parse(contigs, \"fasta\"):\n",
    "    contig_length[record.id] = len(record.seq)\n",
    "    contig_idx_id[len(contig_id_idx)] = record.id\n",
    "    contig_id_idx[record.id] = len(contig_id_idx)"
   ]
  },
  {
   "cell_type": "code",
   "execution_count": 12,
   "metadata": {},
   "outputs": [
    {
     "data": {
      "text/plain": [
       "281"
      ]
     },
     "execution_count": 12,
     "metadata": {},
     "output_type": "execute_result"
    }
   ],
   "source": [
    "output = '/home/maog/data/metahit'\n",
    "res = perform_binning(output, contigs)\n",
    "len(res.keys())"
   ]
  },
  {
   "cell_type": "code",
   "execution_count": 13,
   "metadata": {},
   "outputs": [
    {
     "data": {
      "text/plain": [
       "281"
      ]
     },
     "execution_count": 13,
     "metadata": {},
     "output_type": "execute_result"
    }
   ],
   "source": [
    "import collections\n",
    "cluster = dict()\n",
    "cluster = collections.defaultdict(set)\n",
    "for k, v in res.items():\n",
    "    for i in v:\n",
    "        cluster[contig_idx_id[k]].add(contig_idx_id[i])\n",
    "len(cluster.keys())"
   ]
  },
  {
   "cell_type": "code",
   "execution_count": 14,
   "metadata": {},
   "outputs": [],
   "source": [
    "with open('/home/maog/data/metahit/AAE_cluster.tsv', 'w') as file:\n",
    "    DRBin.utils.write_clusters(file, cluster)"
   ]
  },
  {
   "cell_type": "code",
   "execution_count": 15,
   "metadata": {},
   "outputs": [],
   "source": [
    "reference_path = '/home/maog/data/metahit/reference.tsv'\n",
    "#!head $reference_path # show first 10 lines of reference file\n",
    "with open(reference_path) as reference_file:\n",
    "    reference = DRBin.benchmark.Reference.from_file(reference_file)\n",
    "\n",
    "taxonomy_path = '/home/maog/data/metahit/taxonomy.tsv'\n",
    "#!head $taxonomy_path # show first 10 lines of reference file\n",
    "with open(taxonomy_path) as taxonomy_file:\n",
    "    reference.load_tax_file(taxonomy_file)"
   ]
  },
  {
   "cell_type": "code",
   "execution_count": 89,
   "metadata": {},
   "outputs": [],
   "source": [
    "with open('/home/maog/data/metahit/AAE_cluster.tsv') as clusters_file:\n",
    "    DRBin_clusters = DRBin.utils.read_clusters(clusters_file)\n",
    "    DRBin_bins = DRBin.benchmark.Binning(DRBin_clusters, reference, minsize=100000)"
   ]
  },
  {
   "cell_type": "code",
   "execution_count": 90,
   "metadata": {},
   "outputs": [
    {
     "name": "stdout",
     "output_type": "stream",
     "text": [
      "DRBin bins:\n",
      "114\t107\t102\t96\t86\t66\t22\t7\t0\n",
      "109\t104\t99\t93\t85\t65\t21\t7\t0\n",
      "54\t53\t51\t50\t49\t43\t17\t6\t0\n"
     ]
    }
   ],
   "source": [
    "print('DRBin bins:')\n",
    "for rank in DRBin_bins.summary():\n",
    "    print('\\t'.join(map(str, rank)))"
   ]
  },
  {
   "cell_type": "code",
   "execution_count": 91,
   "metadata": {},
   "outputs": [],
   "source": [
    "with open('/home/maog/data/metahit/vamb_cluster.tsv') as clusters_file:\n",
    "    vamb_clusters = DRBin.utils.read_clusters(clusters_file)\n",
    "    vamb_bins = DRBin.benchmark.Binning(vamb_clusters, reference, minsize=100000)"
   ]
  },
  {
   "cell_type": "code",
   "execution_count": 92,
   "metadata": {},
   "outputs": [
    {
     "name": "stdout",
     "output_type": "stream",
     "text": [
      "DRBin bins:\n",
      "108\t107\t105\t102\t91\t66\t21\t6\t0\n",
      "104\t104\t102\t99\t90\t65\t20\t6\t0\n",
      "53\t53\t52\t51\t49\t43\t17\t5\t0\n"
     ]
    }
   ],
   "source": [
    "print('DRBin bins:')\n",
    "for rank in vamb_bins.summary():\n",
    "    print('\\t'.join(map(str, rank)))"
   ]
  },
  {
   "cell_type": "code",
   "execution_count": 82,
   "metadata": {},
   "outputs": [],
   "source": [
    "from sklearn.cluster import DBSCAN\n",
    "labels = DBSCAN(eps = 0.06, min_samples = 50, metric = 'cosine').fit_predict(latent)"
   ]
  },
  {
   "cell_type": "code",
   "execution_count": 83,
   "metadata": {},
   "outputs": [
    {
     "data": {
      "text/plain": [
       "183"
      ]
     },
     "execution_count": 83,
     "metadata": {},
     "output_type": "execute_result"
    }
   ],
   "source": [
    "import collections\n",
    "#clusters = dict()\n",
    "clusters = collections.defaultdict(set)\n",
    "for i in range(len(labels)):\n",
    "    clusters[labels[i]]\n",
    "len(clusters.keys())"
   ]
  },
  {
   "cell_type": "code",
   "execution_count": 84,
   "metadata": {},
   "outputs": [],
   "source": [
    "for i in range(len(labels)):\n",
    "    clusters[labels[i]].add(contig_idx_id[i])"
   ]
  },
  {
   "cell_type": "code",
   "execution_count": 85,
   "metadata": {},
   "outputs": [
    {
     "data": {
      "text/plain": [
       "183"
      ]
     },
     "execution_count": 85,
     "metadata": {},
     "output_type": "execute_result"
    }
   ],
   "source": [
    "len(clusters.keys())"
   ]
  },
  {
   "cell_type": "code",
   "execution_count": 86,
   "metadata": {},
   "outputs": [],
   "source": [
    "with open('/home/maog/data/metahit/hdbscan_cluster.tsv', 'w') as file:\n",
    "    DRBin.utils.write_clusters(file, clusters)"
   ]
  },
  {
   "cell_type": "code",
   "execution_count": 87,
   "metadata": {},
   "outputs": [],
   "source": [
    "with open('/home/maog/data/metahit/hdbscan_cluster.tsv') as clusters_file:\n",
    "    DRBin_clusters = DRBin.utils.read_clusters(clusters_file)\n",
    "    DRBin_bins = DRBin.benchmark.Binning(DRBin_clusters, reference, minsize=100000)"
   ]
  },
  {
   "cell_type": "code",
   "execution_count": 88,
   "metadata": {},
   "outputs": [
    {
     "name": "stdout",
     "output_type": "stream",
     "text": [
      "DRBin bins:\n",
      "126\t121\t105\t94\t71\t33\t10\t3\t0\n",
      "121\t117\t103\t93\t71\t33\t10\t3\t0\n",
      "51\t50\t49\t45\t39\t24\t7\t2\t0\n"
     ]
    }
   ],
   "source": [
    "print('DRBin bins:')\n",
    "for rank in DRBin_bins.summary():\n",
    "    print('\\t'.join(map(str, rank)))"
   ]
  },
  {
   "cell_type": "code",
   "execution_count": 93,
   "metadata": {},
   "outputs": [
    {
     "name": "stdout",
     "output_type": "stream",
     "text": [
      "0.7859252091215118\n",
      "0.8613777268829388\n"
     ]
    }
   ],
   "source": [
    "from DRBin.eval import *\n",
    "print(calcu_f1score(vamb_bins))\n",
    "print(calcu_f1score(DRBin_bins))"
   ]
  },
  {
   "cell_type": "code",
   "execution_count": 28,
   "metadata": {},
   "outputs": [
    {
     "name": "stdout",
     "output_type": "stream",
     "text": [
      "AAE.ipynb  example.ipynb  README.md          show_DRBin.ipynb  vMF-VAE.ipynb\n",
      "\u001b[0m\u001b[01;34mDRBin\u001b[0m/     \u001b[01;34m__pycache__\u001b[0m/   show_DGRBin.ipynb  \u001b[01;34mtest_data\u001b[0m/\n"
     ]
    }
   ],
   "source": [
    "ls"
   ]
  },
  {
   "cell_type": "code",
   "execution_count": 2,
   "metadata": {},
   "outputs": [],
   "source": [
    "with open('/home/maog/data/best_practice/case1/case1_depth.txt') as file:\n",
    "    depths = _vambtools.load_jgi(file)"
   ]
  },
  {
   "cell_type": "code",
   "execution_count": 12,
   "metadata": {},
   "outputs": [
    {
     "name": "stdout",
     "output_type": "stream",
     "text": [
      "ls: cannot access '/maog/data/best_practice': No such file or directory\n"
     ]
    }
   ],
   "source": [
    "ls /maog/data/best_practice"
   ]
  },
  {
   "cell_type": "code",
   "execution_count": 5,
   "metadata": {},
   "outputs": [
    {
     "data": {
      "text/plain": [
       "(79862, 42)"
      ]
     },
     "execution_count": 5,
     "metadata": {},
     "output_type": "execute_result"
    }
   ],
   "source": [
    "depths.shape"
   ]
  },
  {
   "cell_type": "code",
   "execution_count": 10,
   "metadata": {},
   "outputs": [],
   "source": [
    "np.savez('/home/maog/data/best_practice/case1/case1_depth.npz', depths)"
   ]
  },
  {
   "cell_type": "code",
   "execution_count": 11,
   "metadata": {},
   "outputs": [],
   "source": [
    "RPKMs = _vambtools.read_npz('/home/maog/data/best_practice/case1/case1_depth.npz')"
   ]
  },
  {
   "cell_type": "code",
   "execution_count": 13,
   "metadata": {},
   "outputs": [
    {
     "data": {
      "text/plain": [
       "(79862, 42)"
      ]
     },
     "execution_count": 13,
     "metadata": {},
     "output_type": "execute_result"
    }
   ],
   "source": [
    "RPKMs.shape"
   ]
  },
  {
   "cell_type": "code",
   "execution_count": null,
   "metadata": {},
   "outputs": [],
   "source": []
  }
 ],
 "metadata": {
  "kernelspec": {
   "display_name": "graphBin",
   "language": "python",
   "name": "graphbin"
  },
  "language_info": {
   "codemirror_mode": {
    "name": "ipython",
    "version": 3
   },
   "file_extension": ".py",
   "mimetype": "text/x-python",
   "name": "python",
   "nbconvert_exporter": "python",
   "pygments_lexer": "ipython3",
   "version": "3.7.8"
  }
 },
 "nbformat": 4,
 "nbformat_minor": 4
}
